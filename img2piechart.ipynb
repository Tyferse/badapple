{
 "cells": [
  {
   "cell_type": "code",
   "execution_count": 1,
   "metadata": {},
   "outputs": [],
   "source": [
    "import matplotlib.image as mpimg\n",
    "import matplotlib.pyplot as plt\n",
    "import numpy as np"
   ]
  },
  {
   "cell_type": "code",
   "execution_count": null,
   "metadata": {},
   "outputs": [
    {
     "name": "stdout",
     "output_type": "stream",
     "text": [
      "[[1 1 1 1 1 1 1 1 1 0 0 0 0 0 0 0]\n",
      " [1 1 1 1 1 1 1 1 1 0 0 0 0 0 0 0]\n",
      " [1 1 1 1 1 1 1 1 1 0 0 0 0 0 0 0]\n",
      " [1 1 1 1 1 1 1 1 1 0 0 0 0 0 0 0]\n",
      " [1 1 1 1 1 1 1 1 1 0 0 0 0 0 0 0]\n",
      " [1 1 1 1 1 1 1 1 1 0 0 0 0 0 0 0]\n",
      " [1 1 1 1 1 1 1 1 1 0 0 0 0 0 0 0]\n",
      " [1 1 1 1 1 1 1 1 1 0 0 0 0 0 0 0]\n",
      " [2 2 2 2 2 2 2 2 0 0 0 0 0 0 0 0]\n",
      " [2 2 2 2 2 2 2 2 3 3 3 3 3 3 3 3]\n",
      " [2 2 2 2 2 2 2 2 3 3 3 3 3 3 3 3]\n",
      " [2 2 2 2 2 2 2 2 3 3 3 3 3 3 3 3]\n",
      " [2 2 2 2 2 2 2 2 3 3 3 3 3 3 3 3]\n",
      " [2 2 2 2 2 2 2 2 3 3 3 3 3 3 3 3]\n",
      " [2 2 2 2 2 2 2 2 3 3 3 3 3 3 3 3]\n",
      " [2 2 2 2 2 2 2 2 3 3 3 3 3 3 3 3]]\n"
     ]
    }
   ],
   "source": [
    "def divide_into_sectors(n, k):\n",
    "    assert (isinstance(n, tuple) and len(n) == 2) or isinstance(n, int)\n",
    "\n",
    "    a, b = 0, 0\n",
    "    if isinstance(n, int):\n",
    "        a, b = n, n\n",
    "    else:\n",
    "        a, b = n\n",
    "\n",
    "    sectors = np.zeros((a, b), dtype=int)\n",
    "\n",
    "    center_x = b // 2\n",
    "    center_y = a // 2\n",
    "\n",
    "    for x in range(b):\n",
    "        for y in range(a):\n",
    "            angle = np.degrees(-np.arctan2(y - center_y, x - center_x)) % 360\n",
    "            sector_index = int(angle // (360 / k))\n",
    "            sectors[y, x] = sector_index \n",
    "\n",
    "    return sectors\n",
    "\n",
    "print(divide_into_sectors(16, 4))"
   ]
  },
  {
   "cell_type": "code",
   "execution_count": null,
   "metadata": {},
   "outputs": [],
   "source": [
    "def gen_piechart(file, output_dir='wframes', split=10, sectors=8, figsize=(14.4, 10.8)):\n",
    "    testimg = mpimg.imread(file)\n",
    "    # print(testimg)\n",
    "\n",
    "    fig, ax = plt.subplots(testimg.shape[0] // split, testimg.shape[1] // split)\n",
    "    fig.set_figwidth(figsize[0])\n",
    "    fig.set_figheight(figsize[1])\n",
    "    fig.subplots_adjust(0, 0, 1, 1)\n",
    "    fig.set_facecolor('black')\n",
    "\n",
    "    sectors_split = divide_into_sectors(split, sectors)\n",
    "    for y in range(0, testimg.shape[0] - (testimg.shape[0] % split), split):\n",
    "        for x in range(0, testimg.shape[1] - (testimg.shape[1] % split), split):\n",
    "            colors = [[] for _ in range(sectors)]\n",
    "            # print(colors)\n",
    "            for i in range(split):\n",
    "                for j in range(split):\n",
    "                    colors[sectors_split[i, j]].append(testimg[y + i, x + j])\n",
    "                \n",
    "            # print(colors)\n",
    "            for i in range(sectors):\n",
    "                cnum = len(colors[i])\n",
    "                colors[i] = sum([c / cnum for c in colors[i]])\n",
    "                colors[i] = colors[i].round() / 255\n",
    "                \n",
    "            # print(colors)\n",
    "            ax[y // split, x // split].pie([1] * sectors, colors=colors, \n",
    "                                            radius=1.54, explode=[-0.03] * sectors)\n",
    "            \n",
    "                \n",
    "    plt.savefig(output_dir + '/' +  (file if '/' not in file else file.rsplit('/', 1)[1]))\n",
    "    # plt.show()\n",
    "    plt.close()\n",
    "\n",
    "# gen_piechart(\"\", 'wframes', 42, 12, (19.2, 10.8))"
   ]
  },
  {
   "cell_type": "code",
   "execution_count": null,
   "metadata": {},
   "outputs": [],
   "source": [
    "import os\n",
    "from joblib import Parallel, delayed\n",
    "\n",
    "\n",
    "if not os.path.exists('wframes'):\n",
    "    os.mkdir('wframes')\n",
    "    \n",
    "Parallel(n_jobs=-1)(delayed(gen_piechart)('frames/' + frame, 'wframes', 20, 8, (14.4, 10.8))\n",
    "                     for frame in os.listdir('frames')[1:])"
   ]
  }
 ],
 "metadata": {
  "kernelspec": {
   "display_name": "Python 3",
   "language": "python",
   "name": "python3"
  },
  "language_info": {
   "codemirror_mode": {
    "name": "ipython",
    "version": 3
   },
   "file_extension": ".py",
   "mimetype": "text/x-python",
   "name": "python",
   "nbconvert_exporter": "python",
   "pygments_lexer": "ipython3",
   "version": "3.10.7"
  }
 },
 "nbformat": 4,
 "nbformat_minor": 2
}
