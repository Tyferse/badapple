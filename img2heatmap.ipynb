{
 "cells": [
  {
   "cell_type": "code",
   "execution_count": 2,
   "metadata": {},
   "outputs": [],
   "source": [
    "import numpy as np\n",
    "import os\n",
    "import matplotlib.colors as mcolors\n",
    "import matplotlib.image as mpimg\n",
    "import matplotlib.pyplot as plt"
   ]
  },
  {
   "cell_type": "code",
   "execution_count": null,
   "metadata": {},
   "outputs": [],
   "source": [
    "square_size = 7\n",
    "# plt.figure(figsize=(9.6, 7.2))\n",
    "# plt.colorbar()\n",
    "\n",
    "for frame in os.listdir('frames')[4671:]:\n",
    "    img = mpimg.imread('frames/' + frame)\n",
    "    heatmap_img = np.zeros((img.shape[0] // square_size, img.shape[1] // square_size))\n",
    "\n",
    "    for i in range(0, img.shape[0] - square_size -1, square_size):\n",
    "        for j in range(0, img.shape[1] - square_size - 1, square_size):\n",
    "            square = img[i:i+square_size, j:j+square_size]\n",
    "            mean_color = np.mean(square)\n",
    "            heatmap_img[i//square_size, j//square_size] = mean_color\n",
    "\n",
    "    norm = mcolors.Normalize(vmin=0, vmax=1)\n",
    "    heatmap_img = plt.cm.hot(norm(heatmap_img))\n",
    "    # print(heatmap_img[-1, :])\n",
    "\n",
    "    plt.figure(figsize=(9.6, 7.2))\n",
    "    plt.subplots_adjust(0.05, 0.05, 1, 0.975)\n",
    "\n",
    "    plt.imshow(heatmap_img, aspect='auto', cmap='hot')  # extent=[0, img.shape[1], 0, img.shape[0] - square_size], cmap='hot'\n",
    "    cbar = plt.colorbar()\n",
    "    cbar.set_ticks([0, 0.2, 0.4, 0.6, 0.8, 1])\n",
    "    # cbar.set_label('Average Color')\n",
    "\n",
    "    # plt.axis('off')\n",
    "    plt.savefig('wframes/' + frame)\n",
    "    plt.close()\n",
    "    print(frame, 'saved')\n"
   ]
  }
 ],
 "metadata": {
  "kernelspec": {
   "display_name": "Python 3",
   "language": "python",
   "name": "python3"
  },
  "language_info": {
   "codemirror_mode": {
    "name": "ipython",
    "version": 3
   },
   "file_extension": ".py",
   "mimetype": "text/x-python",
   "name": "python",
   "nbconvert_exporter": "python",
   "pygments_lexer": "ipython3",
   "version": "3.10.7"
  }
 },
 "nbformat": 4,
 "nbformat_minor": 2
}
