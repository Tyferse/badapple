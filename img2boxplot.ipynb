{
 "cells": [
  {
   "cell_type": "code",
   "execution_count": null,
   "metadata": {},
   "outputs": [],
   "source": [
    "import matplotlib.image as mpimg\n",
    "import matplotlib.pyplot as plt"
   ]
  },
  {
   "cell_type": "code",
   "execution_count": null,
   "metadata": {},
   "outputs": [],
   "source": [
    "def gen_boxplot(file, output_dir='wframes', split=16, figsize=(14.4, 10.8)):\n",
    "    testimg = mpimg.imread(file)\n",
    "\n",
    "    fig, ax = plt.subplots(testimg.shape[0] // split, 1)\n",
    "    fig.set_figwidth(figsize[0])\n",
    "    fig.set_figheight(figsize[1])\n",
    "    fig.subplots_adjust(0, 0, 1, 1)\n",
    "    # fig.tight_layout()\n",
    "\n",
    "    boxes = [list(list(testimg[split*i:split*(i + 1) + 1, jj].mean() \n",
    "                       for jj in range(split*j, split*(j + 1))) \n",
    "                  for j in range(testimg.shape[1] // split)) \n",
    "             for i in range(testimg.shape[0] // split)]\n",
    "\n",
    "    for i in range(len(boxes)):\n",
    "        for j in range(len(boxes[0])):\n",
    "            if sum(boxes[i][j]) / split <= 55:\n",
    "                boxes[i][j] = [0, 255]\n",
    "            # else:\n",
    "            #     boxes[i][j] = [0, 0]\n",
    "\n",
    "    boxplots = []\n",
    "    for i in range(len(boxes)):\n",
    "        ax[i].axis('off')\n",
    "        boxplots.append(ax[i].boxplot(boxes[i], whis=1, widths=1, boxprops={'color': 'black'}, \n",
    "                                      medianprops={'color': 'black'}, showfliers=False, patch_artist=True))\n",
    "\n",
    "        for patch in boxplots[i]['boxes']:\n",
    "            patch.set_facecolor('black') \n",
    "\n",
    "    plt.savefig(output_dir + '/' +  file.rsplit('/', 1)[1])\n",
    "    # plt.show()\n",
    "    plt.close()\n",
    "\n",
    "\n",
    "# gen_boxplot(\"frames/output_1201.jpg\", 'wframes', 16, (14.4, 10.8))"
   ]
  },
  {
   "cell_type": "code",
   "execution_count": null,
   "metadata": {},
   "outputs": [],
   "source": [
    "import os\n",
    "from joblib import Parallel, delayed\n",
    "\n",
    "\n",
    "if not os.path.exists('wframes'):\n",
    "    os.mkdir('wframes')\n",
    "    \n",
    "Parallel(n_jobs=-1)(delayed(gen_boxplot)('frames/' + frame, 'wframes', 16, (14.4, 10.8))\n",
    "                    for frame in os.listdir('frames')[1:])\n"
   ]
  }
 ],
 "metadata": {
  "kernelspec": {
   "display_name": "Python 3",
   "language": "python",
   "name": "python3"
  },
  "language_info": {
   "codemirror_mode": {
    "name": "ipython",
    "version": 3
   },
   "file_extension": ".py",
   "mimetype": "text/x-python",
   "name": "python",
   "nbconvert_exporter": "python",
   "pygments_lexer": "ipython3",
   "version": "3.10.7"
  }
 },
 "nbformat": 4,
 "nbformat_minor": 2
}
