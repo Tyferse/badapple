{
 "cells": [
  {
   "cell_type": "code",
   "execution_count": null,
   "metadata": {},
   "outputs": [],
   "source": [
    "import matplotlib.image as mpimg\n",
    "import matplotlib.pyplot as plt\n",
    "import os\n",
    "from joblib import Parallel, delayed"
   ]
  },
  {
   "cell_type": "code",
   "execution_count": null,
   "metadata": {},
   "outputs": [],
   "source": [
    "def gen_hex(frame):\n",
    "    # make data\n",
    "    img = mpimg.imread('frames/' + frame)\n",
    "\n",
    "    X, Y, C = [], [], []\n",
    "    for y in range(img.shape[0]):\n",
    "        Y.extend([-y] * img.shape[1])\n",
    "        for x in range(img.shape[1]):\n",
    "            X.append(x)\n",
    "            C.append(255 - img[y, x].mean())\n",
    "    \n",
    "    C[-1] = 25\n",
    "    # plot\n",
    "    # plt.style.use('_mpl-gallery-nogrid')\n",
    "    plt.subplots_adjust(0, 0, 1, 1)\n",
    "    plt.figure(figsize=(14.4, 10.8))  # figsize=(14.4, 10.8))\n",
    "    plt.hexbin(X, Y, C=C, gridsize=30, cmap='Greys')  # inferno, viridis, Greys, RdGy\n",
    "    plt.axis(\"off\")\n",
    "    plt.tight_layout()\n",
    "    plt.savefig('wframes/' + frame)\n",
    "    # plt.show()\n",
    "    plt.close()\n",
    "\n",
    "    print(frame)\n",
    "\n",
    "\n",
    "plt.style.use('_mpl-gallery-nogrid')\n",
    "if not os.path.exists('wframes'):\n",
    "    os.mkdir('wframes')\n",
    "\n",
    "# gen_hex(\"output_6225.jpg\")\n",
    "Parallel(n_jobs=-1)(delayed(gen_hex)(frame) for frame in os.listdir('frames')[1:])"
   ]
  }
 ],
 "metadata": {
  "kernelspec": {
   "display_name": "Python 3",
   "language": "python",
   "name": "python3"
  },
  "language_info": {
   "codemirror_mode": {
    "name": "ipython",
    "version": 3
   },
   "file_extension": ".py",
   "mimetype": "text/x-python",
   "name": "python",
   "nbconvert_exporter": "python",
   "pygments_lexer": "ipython3",
   "version": "3.10.7"
  }
 },
 "nbformat": 4,
 "nbformat_minor": 2
}
