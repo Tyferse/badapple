{
 "cells": [
  {
   "cell_type": "code",
   "execution_count": 1,
   "metadata": {},
   "outputs": [],
   "source": [
    "import matplotlib.image as mpimg\n",
    "import matplotlib.pyplot as plt\n",
    "import numpy as np\n",
    "import os\n",
    "from joblib import Parallel, delayed"
   ]
  },
  {
   "cell_type": "code",
   "execution_count": null,
   "metadata": {},
   "outputs": [],
   "source": [
    "def gen_contourf(frame):\n",
    "    # plt.style.use('_mpl-gallery-nogrid')\n",
    "\n",
    "    # make data\n",
    "    img = mpimg.imread('frames/' + frame)\n",
    "\n",
    "    # Z = np.array(list(map(lambda x: np.array([sum(px) / 3 for px in x]), img)))\n",
    "    # print(Z.shape)\n",
    "    # X, Y = np.meshgrid(np.linspace(-3, 3, 256), np.linspace(-3, 3, 256))\n",
    "    # Z = (1 - X/2 + X**5 + Y**3) * np.exp(-X**2 - Y**2)\n",
    "    matrix_size = 6\n",
    "    mean_img = np.zeros((img.shape[0] // matrix_size, img.shape[1] // matrix_size))\n",
    "    for y in range(0, img.shape[0] - matrix_size, matrix_size):\n",
    "        for x in range(0, img.shape[1] - matrix_size, matrix_size):\n",
    "            mean_img[y // matrix_size, x // matrix_size] = img[(y, y + matrix_size), (x, x + matrix_size)].mean()\n",
    "\n",
    "    # print(mean_img)\n",
    "    # print(mean_img.shape)\n",
    "\n",
    "    X, Y = np.linspace(-6, 6, mean_img.shape[0]), np.linspace(-6, 6, mean_img.shape[1])\n",
    "    levels = np.linspace(0, 255, 6)\n",
    "\n",
    "    plt.style.use('_mpl-gallery-nogrid')\n",
    "    plt.figure(figsize=(14.4, 10.8))\n",
    "    plt.contourf(Y, -X, mean_img, levels=levels, cmap='inferno')  # inferno, viridis, Greys, RdGy\n",
    "    plt.savefig('wframes/' + frame)\n",
    "    plt.close()\n",
    "\n",
    "    print(frame)\n",
    "\n",
    "\n",
    "plt.style.use('_mpl-gallery-nogrid')\n",
    "if not os.path.exists('wframes'):\n",
    "    os.mkdir('wframes')\n",
    "    \n",
    "Parallel(n_jobs=-1)(delayed(gen_contourf)(frame) for frame in os.listdir('frames')[1:])"
   ]
  },
  {
   "cell_type": "code",
   "execution_count": null,
   "metadata": {},
   "outputs": [],
   "source": [
    "def gen_contour(frame):\n",
    "    # plt.style.use('_mpl-gallery-nogrid')\n",
    "\n",
    "    # make data\n",
    "    img = mpimg.imread('frames/' + frame)\n",
    "\n",
    "    # Z = np.array(list(map(lambda x: np.array([sum(px) / 3 for px in x]), img)))\n",
    "    # print(Z.shape)\n",
    "    # X, Y = np.meshgrid(np.linspace(-3, 3, 256), np.linspace(-3, 3, 256))\n",
    "    # Z = (1 - X/2 + X**5 + Y**3) * np.exp(-X**2 - Y**2)\n",
    "    matrix_size = 6\n",
    "    mean_img = np.zeros((img.shape[0] // matrix_size, img.shape[1] // matrix_size))\n",
    "    for y in range(0, img.shape[0] - matrix_size, matrix_size):\n",
    "        for x in range(0, img.shape[1] - matrix_size, matrix_size):\n",
    "            mean_img[y // matrix_size, x // matrix_size] = img[(y, y + matrix_size), (x, x + matrix_size)].mean()\n",
    "\n",
    "    # print(mean_img)\n",
    "    # print(mean_img.shape)\n",
    "\n",
    "    X, Y = np.linspace(-6, 6, mean_img.shape[0]), np.linspace(-6, 6, mean_img.shape[1])\n",
    "    levels = np.linspace(0, 255, 8)\n",
    "\n",
    "    # plot\n",
    "    plt.style.use('_mpl-gallery-nogrid')\n",
    "    plt.figure(figsize=(14.4, 10.8))\n",
    "    plt.contour(Y, -X, mean_img, levels=levels, cmap='inferno')  # inferno, viridis, Greys, RdGy\n",
    "    plt.savefig('wframes/' + frame)\n",
    "    plt.close()\n",
    "\n",
    "    print(frame)\n",
    "\n",
    "\n",
    "plt.style.use('_mpl-gallery-nogrid')\n",
    "if not os.path.exists('wframes'):\n",
    "    os.mkdir('wframes')\n",
    "    \n",
    "Parallel(n_jobs=-1)(delayed(gen_contour)(frame) for frame in os.listdir('frames')[1:])"
   ]
  }
 ],
 "metadata": {
  "kernelspec": {
   "display_name": "Python 3",
   "language": "python",
   "name": "python3"
  },
  "language_info": {
   "codemirror_mode": {
    "name": "ipython",
    "version": 3
   },
   "file_extension": ".py",
   "mimetype": "text/x-python",
   "name": "python",
   "nbconvert_exporter": "python",
   "pygments_lexer": "ipython3",
   "version": "3.10.7"
  }
 },
 "nbformat": 4,
 "nbformat_minor": 2
}
